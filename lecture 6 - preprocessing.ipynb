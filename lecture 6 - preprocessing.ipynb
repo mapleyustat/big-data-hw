{
 "metadata": {
  "name": "",
  "signature": "sha256:51a6067242cdf1ff6fcbe3447138d1b2b2dcf50013abd062b0fe41aa78438279"
 },
 "nbformat": 3,
 "nbformat_minor": 0,
 "worksheets": [
  {
   "cells": [
    {
     "cell_type": "heading",
     "level": 1,
     "metadata": {},
     "source": [
      "Lecture 6 homework - Data preprocessing"
     ]
    },
    {
     "cell_type": "code",
     "collapsed": false,
     "input": [
      "%load_ext watermark"
     ],
     "language": "python",
     "metadata": {},
     "outputs": []
    },
    {
     "cell_type": "code",
     "collapsed": false,
     "input": [
      "%watermark -a \"Randy Olson\" -d -v -m -g"
     ],
     "language": "python",
     "metadata": {},
     "outputs": [
      {
       "output_type": "stream",
       "stream": "stdout",
       "text": [
        "Randy Olson 29/01/2015 \n",
        "\n",
        "CPython 2.7.8\n",
        "IPython 2.3.0\n",
        "\n",
        "compiler   : GCC 4.2.1 (Apple Inc. build 5577)\n",
        "system     : Darwin\n",
        "release    : 13.4.0\n",
        "machine    : x86_64\n",
        "processor  : i386\n",
        "CPU cores  : 8\n",
        "interpreter: 64bit\n",
        "Git hash   : \n"
       ]
      }
     ],
     "prompt_number": 2
    },
    {
     "cell_type": "code",
     "collapsed": false,
     "input": [
      "%matplotlib inline\n",
      "import matplotlib.pyplot as plt\n",
      "import seaborn as sb\n",
      "\n",
      "titanic = sb.load_dataset(\"titanic\")\n",
      "titanic[\"alive\"] = titanic[\"alive\"].apply(lambda x: 1 if x == \"yes\" else 0)\n",
      "titanic.head()"
     ],
     "language": "python",
     "metadata": {},
     "outputs": [
      {
       "html": [
        "<div style=\"max-height:1000px;max-width:1500px;overflow:auto;\">\n",
        "<table border=\"1\" class=\"dataframe\">\n",
        "  <thead>\n",
        "    <tr style=\"text-align: right;\">\n",
        "      <th></th>\n",
        "      <th>survived</th>\n",
        "      <th>pclass</th>\n",
        "      <th>sex</th>\n",
        "      <th>age</th>\n",
        "      <th>sibsp</th>\n",
        "      <th>parch</th>\n",
        "      <th>fare</th>\n",
        "      <th>embarked</th>\n",
        "      <th>class</th>\n",
        "      <th>who</th>\n",
        "      <th>adult_male</th>\n",
        "      <th>deck</th>\n",
        "      <th>embark_town</th>\n",
        "      <th>alive</th>\n",
        "      <th>alone</th>\n",
        "    </tr>\n",
        "  </thead>\n",
        "  <tbody>\n",
        "    <tr>\n",
        "      <th>0</th>\n",
        "      <td> 0</td>\n",
        "      <td> 3</td>\n",
        "      <td>   male</td>\n",
        "      <td> 22</td>\n",
        "      <td> 1</td>\n",
        "      <td> 0</td>\n",
        "      <td>  7.2500</td>\n",
        "      <td> S</td>\n",
        "      <td> Third</td>\n",
        "      <td>   man</td>\n",
        "      <td>  True</td>\n",
        "      <td> NaN</td>\n",
        "      <td> Southampton</td>\n",
        "      <td> 0</td>\n",
        "      <td> False</td>\n",
        "    </tr>\n",
        "    <tr>\n",
        "      <th>1</th>\n",
        "      <td> 1</td>\n",
        "      <td> 1</td>\n",
        "      <td> female</td>\n",
        "      <td> 38</td>\n",
        "      <td> 1</td>\n",
        "      <td> 0</td>\n",
        "      <td> 71.2833</td>\n",
        "      <td> C</td>\n",
        "      <td> First</td>\n",
        "      <td> woman</td>\n",
        "      <td> False</td>\n",
        "      <td>   C</td>\n",
        "      <td>   Cherbourg</td>\n",
        "      <td> 1</td>\n",
        "      <td> False</td>\n",
        "    </tr>\n",
        "    <tr>\n",
        "      <th>2</th>\n",
        "      <td> 1</td>\n",
        "      <td> 3</td>\n",
        "      <td> female</td>\n",
        "      <td> 26</td>\n",
        "      <td> 0</td>\n",
        "      <td> 0</td>\n",
        "      <td>  7.9250</td>\n",
        "      <td> S</td>\n",
        "      <td> Third</td>\n",
        "      <td> woman</td>\n",
        "      <td> False</td>\n",
        "      <td> NaN</td>\n",
        "      <td> Southampton</td>\n",
        "      <td> 1</td>\n",
        "      <td>  True</td>\n",
        "    </tr>\n",
        "    <tr>\n",
        "      <th>3</th>\n",
        "      <td> 1</td>\n",
        "      <td> 1</td>\n",
        "      <td> female</td>\n",
        "      <td> 35</td>\n",
        "      <td> 1</td>\n",
        "      <td> 0</td>\n",
        "      <td> 53.1000</td>\n",
        "      <td> S</td>\n",
        "      <td> First</td>\n",
        "      <td> woman</td>\n",
        "      <td> False</td>\n",
        "      <td>   C</td>\n",
        "      <td> Southampton</td>\n",
        "      <td> 1</td>\n",
        "      <td> False</td>\n",
        "    </tr>\n",
        "    <tr>\n",
        "      <th>4</th>\n",
        "      <td> 0</td>\n",
        "      <td> 3</td>\n",
        "      <td>   male</td>\n",
        "      <td> 35</td>\n",
        "      <td> 0</td>\n",
        "      <td> 0</td>\n",
        "      <td>  8.0500</td>\n",
        "      <td> S</td>\n",
        "      <td> Third</td>\n",
        "      <td>   man</td>\n",
        "      <td>  True</td>\n",
        "      <td> NaN</td>\n",
        "      <td> Southampton</td>\n",
        "      <td> 0</td>\n",
        "      <td>  True</td>\n",
        "    </tr>\n",
        "  </tbody>\n",
        "</table>\n",
        "</div>"
       ],
       "metadata": {},
       "output_type": "pyout",
       "prompt_number": 3,
       "text": [
        "   survived  pclass     sex  age  sibsp  parch     fare embarked  class  \\\n",
        "0         0       3    male   22      1      0   7.2500        S  Third   \n",
        "1         1       1  female   38      1      0  71.2833        C  First   \n",
        "2         1       3  female   26      0      0   7.9250        S  Third   \n",
        "3         1       1  female   35      1      0  53.1000        S  First   \n",
        "4         0       3    male   35      0      0   8.0500        S  Third   \n",
        "\n",
        "     who adult_male deck  embark_town  alive  alone  \n",
        "0    man       True  NaN  Southampton      0  False  \n",
        "1  woman      False    C    Cherbourg      1  False  \n",
        "2  woman      False  NaN  Southampton      1   True  \n",
        "3  woman      False    C  Southampton      1  False  \n",
        "4    man       True  NaN  Southampton      0   True  "
       ]
      }
     ],
     "prompt_number": 3
    },
    {
     "cell_type": "heading",
     "level": 1,
     "metadata": {},
     "source": [
      "Plot raw data"
     ]
    },
    {
     "cell_type": "code",
     "collapsed": false,
     "input": [
      "plt.figure(figsize=(10, 6.5))\n",
      "plt.scatter(titanic.age, titanic.alive, color=\"#1f77b4\")\n",
      "plt.xlabel(\"Age\")\n",
      "plt.ylabel(\"Survived Titanic\")\n",
      ";"
     ],
     "language": "python",
     "metadata": {},
     "outputs": [
      {
       "metadata": {},
       "output_type": "pyout",
       "prompt_number": 4,
       "text": [
        "''"
       ]
      },
      {
       "metadata": {},
       "output_type": "display_data",
       "png": "[encoded data removed]",
       "text": [
        "<matplotlib.figure.Figure at 0x106388690>"
       ]
      }
     ],
     "prompt_number": 4
    },
    {
     "cell_type": "heading",
     "level": 1,
     "metadata": {},
     "source": [
      "Equal width binning"
     ]
    },
    {
     "cell_type": "code",
     "collapsed": false,
     "input": [
      "max_age = max(titanic.age)\n",
      "min_age = min(titanic.age)\n",
      "\n",
      "interval = (max_age - min_age) / 4\n",
      "\n",
      "print min_age, max_age, interval"
     ],
     "language": "python",
     "metadata": {},
     "outputs": [
      {
       "output_type": "stream",
       "stream": "stdout",
       "text": [
        "0.42 80.0 19.895\n"
       ]
      }
     ],
     "prompt_number": 5
    },
    {
     "cell_type": "code",
     "collapsed": false,
     "input": [
      "bin1 = titanic[(titanic.age >= min_age) & (titanic.age < min_age + interval)]\n",
      "bin2 = titanic[(titanic.age >= min_age + interval) & (titanic.age < min_age + 2*interval)]\n",
      "bin3 = titanic[(titanic.age >= min_age + 2*interval) & (titanic.age < min_age + 3*interval)]\n",
      "bin4 = titanic[(titanic.age >= min_age + 3*interval) & (titanic.age <= max_age)]\n",
      "\n",
      "print \"Bin sizes:\", len(bin1), len(bin2), len(bin3), len(bin4)\n",
      "\n",
      "print \"Bin sizes:\", len(bin1), len(bin2), len(bin3), len(bin4)\n",
      "print \"\"\n",
      "\n",
      "print \"Bin 1:\", len(bin1[bin1.alive == 1]), \"survived,\", len(bin1[bin1.alive == 0]), \"died\"\n",
      "print \"Bin 2:\", len(bin2[bin2.alive == 1]), \"survived,\", len(bin2[bin2.alive == 0]), \"died\"\n",
      "print \"Bin 3:\", len(bin3[bin3.alive == 1]), \"survived,\", len(bin3[bin3.alive == 0]), \"died\"\n",
      "print \"Bin 4:\", len(bin4[bin4.alive == 1]), \"survived,\", len(bin4[bin4.alive == 0]), \"died\""
     ],
     "language": "python",
     "metadata": {},
     "outputs": [
      {
       "output_type": "stream",
       "stream": "stdout",
       "text": [
        "Bin sizes: 179 385 128 22\n",
        "Bin sizes: 179 385 128 22\n",
        "\n",
        "Bin 1: 82 survived, 97 died\n",
        "Bin 2: 153 survived, 232 died\n",
        "Bin 3: 50 survived, 78 died\n",
        "Bin 4: 5 survived, 17 died\n"
       ]
      }
     ],
     "prompt_number": 6
    },
    {
     "cell_type": "code",
     "collapsed": false,
     "input": [
      "plt.figure(figsize=(10, 6.5))\n",
      "plt.scatter(bin1.age, bin1.alive, color=\"#1f77b4\")\n",
      "plt.scatter(bin2.age, bin2.alive, color=\"#ff7f0e\")\n",
      "plt.scatter(bin3.age, bin3.alive, color=\"#2ca02c\")\n",
      "plt.scatter(bin4.age, bin4.alive, color=\"#d62728\")\n",
      "plt.xlabel(\"Age\")\n",
      "plt.ylabel(\"Survived Titanic\")\n",
      ";"
     ],
     "language": "python",
     "metadata": {},
     "outputs": [
      {
       "metadata": {},
       "output_type": "pyout",
       "prompt_number": 7,
       "text": [
        "''"
       ]
      },
      {
       "metadata": {},
       "output_type": "display_data",
       "png": "[encoded data removed]",
       "text": [
        "<matplotlib.figure.Figure at 0x10d19bb50>"
       ]
      }
     ],
     "prompt_number": 7
    },
    {
     "cell_type": "heading",
     "level": 1,
     "metadata": {},
     "source": [
      "Equal frequency binning"
     ]
    },
    {
     "cell_type": "code",
     "collapsed": false,
     "input": [
      "interval_count = len(titanic.age) / 4\n",
      "\n",
      "titanic_sorted = titanic.sort(\"age\", ascending=True)\n",
      "\n",
      "bin1 = titanic_sorted[:interval_count]\n",
      "bin2 = titanic_sorted[interval_count:2*interval_count]\n",
      "bin3 = titanic_sorted[2*interval_count:3*interval_count]\n",
      "bin4 = titanic_sorted[3*interval_count:]\n",
      "\n",
      "print \"Bin sizes:\", len(bin1), len(bin2), len(bin3), len(bin4)\n",
      "print \"\"\n",
      "\n",
      "print \"Bin 1:\", len(bin1[bin1.alive == 1]), \"survived,\", len(bin1[bin1.alive == 0]), \"died\"\n",
      "print \"Bin 2:\", len(bin2[bin2.alive == 1]), \"survived,\", len(bin2[bin2.alive == 0]), \"died\"\n",
      "print \"Bin 3:\", len(bin3[bin3.alive == 1]), \"survived,\", len(bin3[bin3.alive == 0]), \"died\"\n",
      "print \"Bin 4:\", len(bin4[bin4.alive == 1]), \"survived,\", len(bin4[bin4.alive == 0]), \"died\""
     ],
     "language": "python",
     "metadata": {},
     "outputs": [
      {
       "output_type": "stream",
       "stream": "stdout",
       "text": [
        "Bin sizes: 222 222 222 225\n",
        "\n",
        "Bin 1: 95 survived, 127 died\n",
        "Bin 2: 87 survived, 135 died\n",
        "Bin 3: 93 survived, 129 died\n",
        "Bin 4: 67 survived, 158 died\n"
       ]
      }
     ],
     "prompt_number": 8
    },
    {
     "cell_type": "code",
     "collapsed": false,
     "input": [
      "plt.figure(figsize=(10, 6.5))\n",
      "plt.scatter(bin1.age, bin1.alive, color=\"#1f77b4\")\n",
      "plt.scatter(bin2.age, bin2.alive, color=\"#ff7f0e\")\n",
      "plt.scatter(bin3.age, bin3.alive, color=\"#2ca02c\")\n",
      "plt.scatter(bin4.age, bin4.alive, color=\"#d62728\")\n",
      "plt.xlabel(\"Age\")\n",
      "plt.ylabel(\"Survived Titanic\")\n",
      ";"
     ],
     "language": "python",
     "metadata": {},
     "outputs": [
      {
       "metadata": {},
       "output_type": "pyout",
       "prompt_number": 9,
       "text": [
        "''"
       ]
      },
      {
       "metadata": {},
       "output_type": "display_data",
       "png": "[encoded data removed]",
       "text": [
        "<matplotlib.figure.Figure at 0x10d3ff050>"
       ]
      }
     ],
     "prompt_number": 9
    },
    {
     "cell_type": "heading",
     "level": 1,
     "metadata": {},
     "source": [
      "Entropy-based binning"
     ]
    },
    {
     "cell_type": "code",
     "collapsed": false,
     "input": [
      "from math import log\n",
      "\n",
      "titanic_sorted = titanic.sort(\"age\", ascending=True)\n",
      "\n",
      "def entropy(current_bin):\n",
      "    survived = float(len(current_bin[current_bin.alive == 1]))\n",
      "    died = float(len(current_bin[current_bin.alive == 0]))\n",
      "    total = survived + died\n",
      "    \n",
      "    current_bin_entropy = -(survived / total) * log(survived / total, 2) + -(died / total) * log(died / total, 2)\n",
      "    return current_bin_entropy\n",
      "\n",
      "def information_gain(current_bin, threshold):\n",
      "    current_bin_entropy = entropy(current_bin)\n",
      "    \n",
      "    bin1 = current_bin[current_bin.age < threshold]\n",
      "    bin2 = current_bin[current_bin.age >= threshold]\n",
      "    \n",
      "    bin1_fraction = float(len(bin1)) / len(current_bin)\n",
      "    bin2_fraction = float(len(bin2)) / len(current_bin)\n",
      "    \n",
      "    bin1_entropy = entropy(bin1)\n",
      "    bin2_entropy = entropy(bin2)\n",
      "    \n",
      "    return current_bin_entropy - (bin1_fraction * bin1_entropy + bin2_fraction * bin2_entropy)\n",
      "\n",
      "def find_best_threshold(current_data, min_threshold, max_threshold):\n",
      "    highest_information_gain = 0.0\n",
      "    best_threshold = 0\n",
      "\n",
      "    for threshold in range(min_threshold, max_threshold, 1):\n",
      "        current_bin_information_gain = information_gain(current_data, threshold)\n",
      "\n",
      "        if current_bin_information_gain > highest_information_gain:\n",
      "            highest_information_gain = current_bin_information_gain\n",
      "            best_threshold = threshold\n",
      "\n",
      "    print best_threshold, highest_information_gain"
     ],
     "language": "python",
     "metadata": {},
     "outputs": [],
     "prompt_number": 10
    },
    {
     "cell_type": "code",
     "collapsed": false,
     "input": [
      "find_best_threshold(titanic_sorted, 5, 75)"
     ],
     "language": "python",
     "metadata": {},
     "outputs": [
      {
       "output_type": "stream",
       "stream": "stdout",
       "text": [
        "7 0.194429002121\n"
       ]
      }
     ],
     "prompt_number": 11
    },
    {
     "cell_type": "code",
     "collapsed": false,
     "input": [
      "bin1 = titanic_sorted[titanic_sorted.age < 7]\n",
      "remaining_titanic1 = titanic_sorted[titanic_sorted.age >= 7]\n",
      "find_best_threshold(remaining_titanic1, 8, 75)"
     ],
     "language": "python",
     "metadata": {},
     "outputs": [
      {
       "output_type": "stream",
       "stream": "stdout",
       "text": [
        "64 0.00718022079986\n"
       ]
      }
     ],
     "prompt_number": 12
    },
    {
     "cell_type": "code",
     "collapsed": false,
     "input": [
      "bin4 = remaining_titanic1[remaining_titanic1.age >= 64]\n",
      "remaining_titanic2 = remaining_titanic1[remaining_titanic1.age < 64]\n",
      "find_best_threshold(remaining_titanic2, 8, 63)"
     ],
     "language": "python",
     "metadata": {},
     "outputs": [
      {
       "output_type": "stream",
       "stream": "stdout",
       "text": [
        "48 0.00264755118611\n"
       ]
      }
     ],
     "prompt_number": 13
    },
    {
     "cell_type": "code",
     "collapsed": false,
     "input": [
      "bin2 = remaining_titanic2[remaining_titanic2.age < 48]\n",
      "bin3 = remaining_titanic2[remaining_titanic2.age >= 48]"
     ],
     "language": "python",
     "metadata": {},
     "outputs": [],
     "prompt_number": 14
    },
    {
     "cell_type": "code",
     "collapsed": false,
     "input": [
      "print \"Bin sizes:\", len(bin1), len(bin2), len(bin3), len(bin4)\n",
      "print \"\"\n",
      "\n",
      "print \"Bin 1:\", len(bin1[bin1.alive == 1]), \"survived,\", len(bin1[bin1.alive == 0]), \"died\"\n",
      "print \"Bin 2:\", len(bin2[bin2.alive == 1]), \"survived,\", len(bin2[bin2.alive == 0]), \"died\"\n",
      "print \"Bin 3:\", len(bin3[bin3.alive == 1]), \"survived,\", len(bin3[bin3.alive == 0]), \"died\"\n",
      "print \"Bin 4:\", len(bin4[bin4.alive == 1]), \"survived,\", len(bin4[bin4.alive == 0]), \"died\""
     ],
     "language": "python",
     "metadata": {},
     "outputs": [
      {
       "output_type": "stream",
       "stream": "stdout",
       "text": [
        "Bin sizes: 47 578 76 13\n",
        "\n",
        "Bin 1: 33 survived, 14 died\n",
        "Bin 2: 220 survived, 358 died\n",
        "Bin 3: 36 survived, 40 died\n",
        "Bin 4: 1 survived, 12 died\n"
       ]
      }
     ],
     "prompt_number": 15
    },
    {
     "cell_type": "code",
     "collapsed": false,
     "input": [
      "plt.figure(figsize=(10, 6.5))\n",
      "plt.scatter(bin1.age, bin1.alive, color=\"#1f77b4\")\n",
      "plt.scatter(bin2.age, bin2.alive, color=\"#ff7f0e\")\n",
      "plt.scatter(bin3.age, bin3.alive, color=\"#2ca02c\")\n",
      "plt.scatter(bin4.age, bin4.alive, color=\"#d62728\")\n",
      "plt.xlabel(\"Age\")\n",
      "plt.ylabel(\"Survived Titanic\")\n",
      ";"
     ],
     "language": "python",
     "metadata": {},
     "outputs": [
      {
       "metadata": {},
       "output_type": "pyout",
       "prompt_number": 16,
       "text": [
        "''"
       ]
      },
      {
       "metadata": {},
       "output_type": "display_data",
       "png": "[encoded data removed]",
       "text": [
        "<matplotlib.figure.Figure at 0x10d431e90>"
       ]
      }
     ],
     "prompt_number": 16
    },
    {
     "cell_type": "heading",
     "level": 1,
     "metadata": {},
     "source": [
      "Summary"
     ]
    },
    {
     "cell_type": "markdown",
     "metadata": {},
     "source": [
      "The entropy-based binning method seemed to create some bins that would be more useful for classification, particularly bins 1 and 4 (the young and the elderly, respectively).\n",
      "\n",
      "The other two binning methods don't seem very useful here."
     ]
    },
    {
     "cell_type": "code",
     "collapsed": false,
     "input": [],
     "language": "python",
     "metadata": {},
     "outputs": [],
     "prompt_number": 16
    }
   ],
   "metadata": {}
  }
 ]
}